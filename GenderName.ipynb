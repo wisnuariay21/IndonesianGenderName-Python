{
 "cells": [
  {
   "cell_type": "code",
   "execution_count": 1,
   "metadata": {
    "executionInfo": {
     "elapsed": 1322,
     "status": "ok",
     "timestamp": 1631252112312,
     "user": {
      "displayName": "WISNU ARIA YUSTISIA _",
      "photoUrl": "https://lh3.googleusercontent.com/a/default-user=s64",
      "userId": "03521300089568501135"
     },
     "user_tz": -420
    },
    "id": "QfWdwrPVgWnL"
   },
   "outputs": [],
   "source": [
    "import pandas as pd\n",
    "import numpy as np\n",
    "import matplotlib.pyplot as plt\n",
    "import seaborn as sns\n",
    "import PySimpleGUI as sg\n",
    "from sklearn.naive_bayes import MultinomialNB,BernoulliNB,ComplementNB\n",
    "from sklearn.pipeline import make_pipeline\n",
    "from sklearn.model_selection import train_test_split\n",
    "from sklearn.feature_extraction.text import TfidfVectorizer\n",
    "from sklearn.metrics import accuracy_score\n",
    "from sklearn import metrics\n",
    "from sklearn.preprocessing import LabelEncoder"
   ]
  },
  {
   "cell_type": "markdown",
   "metadata": {},
   "source": [
    "https://www.kaggle.com/dionisiusdh/indonesian-names"
   ]
  },
  {
   "cell_type": "code",
   "execution_count": 2,
   "metadata": {
    "colab": {
     "base_uri": "https://localhost:8080/",
     "height": 320
    },
    "executionInfo": {
     "elapsed": 335,
     "status": "error",
     "timestamp": 1631252293219,
     "user": {
      "displayName": "WISNU ARIA YUSTISIA _",
      "photoUrl": "https://lh3.googleusercontent.com/a/default-user=s64",
      "userId": "03521300089568501135"
     },
     "user_tz": -420
    },
    "id": "Rxnm9qhgM-aZ",
    "outputId": "2f93a7b9-afe8-43c8-a6af-2ab104e116ba"
   },
   "outputs": [],
   "source": [
    "df = pd.read_csv('indonesian-names.csv')"
   ]
  },
  {
   "cell_type": "code",
   "execution_count": 3,
   "metadata": {},
   "outputs": [
    {
     "data": {
      "text/html": [
       "<div>\n",
       "<style scoped>\n",
       "    .dataframe tbody tr th:only-of-type {\n",
       "        vertical-align: middle;\n",
       "    }\n",
       "\n",
       "    .dataframe tbody tr th {\n",
       "        vertical-align: top;\n",
       "    }\n",
       "\n",
       "    .dataframe thead th {\n",
       "        text-align: right;\n",
       "    }\n",
       "</style>\n",
       "<table border=\"1\" class=\"dataframe\">\n",
       "  <thead>\n",
       "    <tr style=\"text-align: right;\">\n",
       "      <th></th>\n",
       "      <th>name</th>\n",
       "      <th>gender</th>\n",
       "    </tr>\n",
       "  </thead>\n",
       "  <tbody>\n",
       "    <tr>\n",
       "      <th>0</th>\n",
       "      <td>hafizhan shidqi</td>\n",
       "      <td>m</td>\n",
       "    </tr>\n",
       "    <tr>\n",
       "      <th>1</th>\n",
       "      <td>gandhi wibowo</td>\n",
       "      <td>m</td>\n",
       "    </tr>\n",
       "    <tr>\n",
       "      <th>2</th>\n",
       "      <td>aldio mahendra purwandrarto</td>\n",
       "      <td>m</td>\n",
       "    </tr>\n",
       "    <tr>\n",
       "      <th>3</th>\n",
       "      <td>benny putra</td>\n",
       "      <td>m</td>\n",
       "    </tr>\n",
       "    <tr>\n",
       "      <th>4</th>\n",
       "      <td>vicky vernando dasta</td>\n",
       "      <td>m</td>\n",
       "    </tr>\n",
       "  </tbody>\n",
       "</table>\n",
       "</div>"
      ],
      "text/plain": [
       "                          name gender\n",
       "0              hafizhan shidqi      m\n",
       "1                gandhi wibowo      m\n",
       "2  aldio mahendra purwandrarto      m\n",
       "3                  benny putra      m\n",
       "4         vicky vernando dasta      m"
      ]
     },
     "execution_count": 3,
     "metadata": {},
     "output_type": "execute_result"
    }
   ],
   "source": [
    "df.head()"
   ]
  },
  {
   "cell_type": "code",
   "execution_count": 4,
   "metadata": {},
   "outputs": [
    {
     "name": "stdout",
     "output_type": "stream",
     "text": [
      "m    1095\n",
      "f     868\n",
      "Name: gender, dtype: int64\n"
     ]
    }
   ],
   "source": [
    "print(df['gender'].value_counts())"
   ]
  },
  {
   "cell_type": "code",
   "execution_count": 4,
   "metadata": {},
   "outputs": [
    {
     "data": {
      "text/html": [
       "<div>\n",
       "<style scoped>\n",
       "    .dataframe tbody tr th:only-of-type {\n",
       "        vertical-align: middle;\n",
       "    }\n",
       "\n",
       "    .dataframe tbody tr th {\n",
       "        vertical-align: top;\n",
       "    }\n",
       "\n",
       "    .dataframe thead th {\n",
       "        text-align: right;\n",
       "    }\n",
       "</style>\n",
       "<table border=\"1\" class=\"dataframe\">\n",
       "  <thead>\n",
       "    <tr style=\"text-align: right;\">\n",
       "      <th></th>\n",
       "      <th>name</th>\n",
       "      <th>gender</th>\n",
       "    </tr>\n",
       "  </thead>\n",
       "  <tbody>\n",
       "    <tr>\n",
       "      <th>0</th>\n",
       "      <td>hafizhan shidqi</td>\n",
       "      <td>m</td>\n",
       "    </tr>\n",
       "    <tr>\n",
       "      <th>1</th>\n",
       "      <td>gandhi wibowo</td>\n",
       "      <td>m</td>\n",
       "    </tr>\n",
       "    <tr>\n",
       "      <th>2</th>\n",
       "      <td>aldio mahendra purwandrarto</td>\n",
       "      <td>m</td>\n",
       "    </tr>\n",
       "    <tr>\n",
       "      <th>3</th>\n",
       "      <td>benny putra</td>\n",
       "      <td>m</td>\n",
       "    </tr>\n",
       "    <tr>\n",
       "      <th>4</th>\n",
       "      <td>vicky vernando dasta</td>\n",
       "      <td>m</td>\n",
       "    </tr>\n",
       "  </tbody>\n",
       "</table>\n",
       "</div>"
      ],
      "text/plain": [
       "                          name gender\n",
       "0              hafizhan shidqi      m\n",
       "1                gandhi wibowo      m\n",
       "2  aldio mahendra purwandrarto      m\n",
       "3                  benny putra      m\n",
       "4         vicky vernando dasta      m"
      ]
     },
     "execution_count": 4,
     "metadata": {},
     "output_type": "execute_result"
    }
   ],
   "source": [
    "male = df[df['gender'] == 'm']\n",
    "male.head()"
   ]
  },
  {
   "cell_type": "code",
   "execution_count": 5,
   "metadata": {},
   "outputs": [
    {
     "data": {
      "text/html": [
       "<div>\n",
       "<style scoped>\n",
       "    .dataframe tbody tr th:only-of-type {\n",
       "        vertical-align: middle;\n",
       "    }\n",
       "\n",
       "    .dataframe tbody tr th {\n",
       "        vertical-align: top;\n",
       "    }\n",
       "\n",
       "    .dataframe thead th {\n",
       "        text-align: right;\n",
       "    }\n",
       "</style>\n",
       "<table border=\"1\" class=\"dataframe\">\n",
       "  <thead>\n",
       "    <tr style=\"text-align: right;\">\n",
       "      <th></th>\n",
       "      <th>name</th>\n",
       "      <th>gender</th>\n",
       "    </tr>\n",
       "  </thead>\n",
       "  <tbody>\n",
       "    <tr>\n",
       "      <th>6</th>\n",
       "      <td>aan nuraini</td>\n",
       "      <td>f</td>\n",
       "    </tr>\n",
       "    <tr>\n",
       "      <th>9</th>\n",
       "      <td>ade indra sukma</td>\n",
       "      <td>f</td>\n",
       "    </tr>\n",
       "    <tr>\n",
       "      <th>10</th>\n",
       "      <td>ade irmayani</td>\n",
       "      <td>f</td>\n",
       "    </tr>\n",
       "    <tr>\n",
       "      <th>14</th>\n",
       "      <td>dean mareti hariani</td>\n",
       "      <td>f</td>\n",
       "    </tr>\n",
       "    <tr>\n",
       "      <th>20</th>\n",
       "      <td>habil sabilla do'a</td>\n",
       "      <td>f</td>\n",
       "    </tr>\n",
       "  </tbody>\n",
       "</table>\n",
       "</div>"
      ],
      "text/plain": [
       "                   name gender\n",
       "6           aan nuraini      f\n",
       "9       ade indra sukma      f\n",
       "10         ade irmayani      f\n",
       "14  dean mareti hariani      f\n",
       "20   habil sabilla do'a      f"
      ]
     },
     "execution_count": 5,
     "metadata": {},
     "output_type": "execute_result"
    }
   ],
   "source": [
    "female = df[df['gender'] == \"f\"]\n",
    "female.head()"
   ]
  },
  {
   "cell_type": "markdown",
   "metadata": {},
   "source": [
    "The variable we are predicting is called the criterion variable and is referred to as Y. The variable we are basing our predictions on is called the predictor variable and is referred to as X"
   ]
  },
  {
   "cell_type": "code",
   "execution_count": 3,
   "metadata": {},
   "outputs": [],
   "source": [
    "X = df['name']\n",
    "y = df['gender']"
   ]
  },
  {
   "cell_type": "markdown",
   "metadata": {},
   "source": [
    "try compiling the 3 model of naive bayes which is Multinomial, Bernoulli, Complement\n",
    "\n",
    "Why naive bayes ? the answer is here https://scikit-learn.org/stable/tutorial/machine_learning_map/index.html"
   ]
  },
  {
   "cell_type": "code",
   "execution_count": 4,
   "metadata": {
    "scrolled": false
   },
   "outputs": [
    {
     "name": "stdout",
     "output_type": "stream",
     "text": [
      "Accuracy 78.05 %\n",
      "\n",
      "(492,)\n",
      "(1475,)\n",
      "\n",
      "['m' 'm' 'm' 'f' 'f' 'm' 'f' 'm' 'm' 'm' 'f' 'm' 'm' 'f' 'm' 'm' 'f' 'm'\n",
      " 'm' 'f' 'f' 'm' 'm' 'm' 'm' 'm' 'm' 'f' 'f' 'm' 'm' 'f' 'm' 'm' 'm' 'f'\n",
      " 'm' 'm' 'f' 'm' 'm' 'f' 'm' 'm' 'm' 'f' 'f' 'f' 'm' 'm' 'm' 'f' 'f' 'f'\n",
      " 'm' 'f' 'm' 'f' 'm' 'm' 'f' 'm' 'm' 'm' 'm' 'f' 'f' 'm' 'm' 'm' 'm' 'm'\n",
      " 'm' 'm' 'm' 'm' 'f' 'm' 'm' 'f' 'm' 'm' 'm' 'f' 'm' 'm' 'm' 'm' 'm' 'f'\n",
      " 'm' 'f' 'm' 'f' 'f' 'f' 'f' 'f' 'm' 'f' 'f' 'm' 'm' 'm' 'f' 'f' 'm' 'm'\n",
      " 'f' 'm' 'm' 'm' 'm' 'f' 'm' 'm' 'm' 'f' 'm' 'm' 'm' 'm' 'm' 'm' 'm' 'm'\n",
      " 'm' 'f' 'm' 'm' 'f' 'f' 'm' 'm' 'm' 'f' 'm' 'm' 'f' 'm' 'f' 'f' 'f' 'm'\n",
      " 'm' 'f' 'm' 'm' 'm' 'f' 'f' 'm' 'm' 'm' 'm' 'm' 'm' 'f' 'm' 'm' 'm' 'm'\n",
      " 'f' 'm' 'f' 'm' 'm' 'm' 'f' 'm' 'm' 'm' 'f' 'm' 'f' 'm' 'm' 'm' 'm' 'm'\n",
      " 'm' 'm' 'm' 'm' 'm' 'm' 'm' 'm' 'm' 'f' 'm' 'm' 'm' 'f' 'm' 'm' 'm' 'f'\n",
      " 'm' 'f' 'f' 'm' 'f' 'f' 'm' 'f' 'm' 'm' 'f' 'f' 'm' 'f' 'm' 'f' 'f' 'm'\n",
      " 'm' 'm' 'f' 'm' 'f' 'm' 'f' 'm' 'm' 'm' 'm' 'm' 'm' 'm' 'f' 'f' 'm' 'f'\n",
      " 'm' 'm' 'f' 'm' 'f' 'f' 'm' 'm' 'm' 'm' 'f' 'm' 'm' 'm' 'm' 'm' 'm' 'm'\n",
      " 'f' 'f' 'm' 'm' 'm' 'm' 'm' 'm' 'f' 'm' 'm' 'f' 'm' 'm' 'f' 'm' 'm' 'm'\n",
      " 'm' 'm' 'm' 'm' 'm' 'f' 'm' 'f' 'm' 'm' 'm' 'm' 'f' 'm' 'm' 'm' 'm' 'm'\n",
      " 'm' 'm' 'm' 'm' 'f' 'f' 'f' 'm' 'm' 'm' 'm' 'm' 'm' 'm' 'm' 'm' 'f' 'm'\n",
      " 'm' 'f' 'm' 'm' 'f' 'm' 'm' 'm' 'm' 'f' 'm' 'm' 'm' 'm' 'm' 'm' 'm' 'f'\n",
      " 'm' 'f' 'm' 'm' 'm' 'm' 'm' 'm' 'm' 'm' 'm' 'm' 'm' 'm' 'm' 'f' 'm' 'm'\n",
      " 'm' 'm' 'm' 'm' 'm' 'm' 'm' 'm' 'm' 'm' 'f' 'f' 'm' 'f' 'f' 'm' 'f' 'm'\n",
      " 'm' 'm' 'm' 'm' 'f' 'm' 'm' 'f' 'm' 'm' 'm' 'm' 'm' 'm' 'm' 'm' 'm' 'm'\n",
      " 'f' 'm' 'f' 'f' 'm' 'm' 'f' 'm' 'm' 'm' 'f' 'f' 'm' 'm' 'm' 'm' 'm' 'm'\n",
      " 'm' 'f' 'm' 'm' 'f' 'm' 'f' 'm' 'm' 'm' 'm' 'f' 'm' 'm' 'f' 'm' 'm' 'm'\n",
      " 'm' 'f' 'm' 'm' 'm' 'm' 'f' 'm' 'm' 'm' 'm' 'f' 'f' 'm' 'f' 'm' 'm' 'm'\n",
      " 'm' 'f' 'f' 'm' 'm' 'm' 'm' 'f' 'm' 'f' 'm' 'm' 'm' 'm' 'm' 'm' 'm' 'm'\n",
      " 'm' 'm' 'm' 'f' 'm' 'f' 'm' 'm' 'f' 'm' 'm' 'f' 'm' 'f' 'm' 'm' 'm' 'm'\n",
      " 'm' 'f' 'f' 'm' 'm' 'f' 'f' 'm' 'm' 'm' 'm' 'm' 'm' 'm' 'm' 'm' 'm' 'm'\n",
      " 'f' 'm' 'm' 'm' 'm' 'm']\n"
     ]
    }
   ],
   "source": [
    "Xtrain,Xtest,ytrain,ytest = train_test_split(X,y,test_size=0.25,random_state=1)\n",
    "model = make_pipeline(TfidfVectorizer(), MultinomialNB())\n",
    "model.fit(Xtrain, ytrain)\n",
    "ypred = model.predict(Xtest)\n",
    "\n",
    "acc = 100*accuracy_score(ytest,ypred)\n",
    "\n",
    "print('Accuracy %0.2f %%'%acc)\n",
    "print(\"\")\n",
    "print(Xtest.shape)\n",
    "print(Xtrain.shape)\n",
    "print(\"\")\n",
    "print(ypred)"
   ]
  },
  {
   "cell_type": "code",
   "execution_count": 7,
   "metadata": {},
   "outputs": [
    {
     "name": "stdout",
     "output_type": "stream",
     "text": [
      "Accuracy 77.85 %\n",
      "\n",
      "(492,)\n",
      "(1475,)\n",
      "\n",
      "['m' 'm' 'm' 'f' 'm' 'm' 'm' 'm' 'm' 'm' 'f' 'm' 'm' 'f' 'm' 'm' 'f' 'm'\n",
      " 'm' 'f' 'f' 'm' 'm' 'm' 'm' 'm' 'm' 'f' 'f' 'm' 'm' 'f' 'm' 'm' 'm' 'f'\n",
      " 'm' 'm' 'f' 'm' 'm' 'f' 'm' 'm' 'm' 'f' 'f' 'f' 'm' 'm' 'm' 'f' 'f' 'f'\n",
      " 'm' 'f' 'm' 'f' 'm' 'm' 'f' 'm' 'm' 'm' 'm' 'f' 'f' 'm' 'm' 'm' 'm' 'm'\n",
      " 'm' 'm' 'm' 'm' 'f' 'm' 'm' 'f' 'm' 'm' 'm' 'f' 'm' 'm' 'm' 'm' 'm' 'f'\n",
      " 'm' 'f' 'm' 'f' 'f' 'f' 'f' 'f' 'm' 'f' 'f' 'm' 'm' 'm' 'f' 'f' 'm' 'm'\n",
      " 'f' 'm' 'm' 'm' 'm' 'f' 'm' 'm' 'm' 'f' 'm' 'm' 'm' 'm' 'm' 'm' 'm' 'm'\n",
      " 'm' 'f' 'm' 'm' 'f' 'f' 'm' 'm' 'm' 'f' 'm' 'm' 'f' 'm' 'f' 'f' 'f' 'm'\n",
      " 'm' 'f' 'm' 'm' 'm' 'f' 'f' 'm' 'm' 'm' 'm' 'm' 'm' 'f' 'm' 'm' 'm' 'm'\n",
      " 'f' 'm' 'f' 'm' 'm' 'm' 'f' 'm' 'm' 'm' 'f' 'm' 'f' 'm' 'm' 'm' 'm' 'm'\n",
      " 'm' 'm' 'm' 'm' 'm' 'm' 'm' 'm' 'm' 'f' 'm' 'm' 'm' 'f' 'm' 'm' 'm' 'f'\n",
      " 'm' 'f' 'f' 'm' 'f' 'f' 'm' 'f' 'm' 'm' 'f' 'f' 'm' 'f' 'm' 'm' 'f' 'm'\n",
      " 'm' 'm' 'f' 'm' 'f' 'm' 'f' 'm' 'm' 'm' 'm' 'm' 'm' 'm' 'f' 'f' 'm' 'f'\n",
      " 'm' 'm' 'f' 'm' 'f' 'f' 'm' 'm' 'm' 'm' 'f' 'm' 'm' 'm' 'm' 'm' 'm' 'm'\n",
      " 'f' 'f' 'm' 'm' 'm' 'm' 'm' 'm' 'f' 'm' 'm' 'f' 'm' 'm' 'f' 'm' 'm' 'm'\n",
      " 'm' 'm' 'm' 'm' 'm' 'f' 'm' 'f' 'm' 'm' 'm' 'm' 'f' 'm' 'm' 'm' 'm' 'm'\n",
      " 'm' 'm' 'm' 'm' 'f' 'f' 'f' 'm' 'm' 'm' 'm' 'm' 'm' 'm' 'm' 'm' 'f' 'm'\n",
      " 'm' 'f' 'm' 'm' 'f' 'm' 'm' 'm' 'm' 'f' 'm' 'm' 'm' 'm' 'm' 'm' 'm' 'f'\n",
      " 'm' 'f' 'm' 'm' 'm' 'm' 'm' 'm' 'm' 'm' 'm' 'm' 'm' 'm' 'm' 'f' 'm' 'm'\n",
      " 'm' 'm' 'm' 'm' 'm' 'm' 'm' 'm' 'm' 'm' 'f' 'f' 'm' 'f' 'f' 'm' 'f' 'm'\n",
      " 'm' 'm' 'm' 'm' 'f' 'm' 'm' 'f' 'm' 'm' 'm' 'm' 'm' 'm' 'm' 'm' 'm' 'm'\n",
      " 'f' 'm' 'f' 'f' 'm' 'm' 'f' 'm' 'm' 'm' 'f' 'f' 'm' 'm' 'm' 'm' 'm' 'm'\n",
      " 'm' 'f' 'm' 'm' 'f' 'm' 'f' 'm' 'm' 'm' 'm' 'f' 'm' 'm' 'f' 'm' 'm' 'm'\n",
      " 'm' 'f' 'm' 'm' 'm' 'm' 'f' 'm' 'm' 'm' 'm' 'f' 'f' 'm' 'f' 'm' 'm' 'm'\n",
      " 'm' 'f' 'f' 'm' 'm' 'm' 'm' 'f' 'm' 'f' 'm' 'm' 'm' 'm' 'm' 'm' 'm' 'm'\n",
      " 'm' 'm' 'm' 'f' 'm' 'f' 'm' 'm' 'f' 'm' 'm' 'f' 'm' 'f' 'm' 'm' 'm' 'm'\n",
      " 'm' 'f' 'f' 'm' 'm' 'f' 'f' 'm' 'm' 'm' 'm' 'm' 'm' 'm' 'm' 'm' 'm' 'm'\n",
      " 'f' 'm' 'm' 'm' 'm' 'm']\n"
     ]
    }
   ],
   "source": [
    "Xtrain,Xtest,ytrain,ytest = train_test_split(X,y,test_size=0.25,random_state=1)\n",
    "model = make_pipeline(TfidfVectorizer(), BernoulliNB())\n",
    "model.fit(Xtrain, ytrain)\n",
    "ypred = model.predict(Xtest)\n",
    "\n",
    "acc = 100*accuracy_score(ytest,ypred)\n",
    "\n",
    "print('Accuracy %0.2f %%'%acc)\n",
    "print(\"\")\n",
    "print(Xtest.shape)\n",
    "print(Xtrain.shape)\n",
    "print(\"\")\n",
    "print(ypred)"
   ]
  },
  {
   "cell_type": "code",
   "execution_count": 4,
   "metadata": {},
   "outputs": [
    {
     "name": "stdout",
     "output_type": "stream",
     "text": [
      "Accuracy 77.24 %\n",
      "\n",
      "(492,)\n",
      "(1475,)\n",
      "\n",
      "['f' 'm' 'f' 'f' 'f' 'm' 'f' 'f' 'f' 'm' 'f' 'm' 'f' 'f' 'f' 'f' 'f' 'm'\n",
      " 'f' 'f' 'f' 'f' 'f' 'm' 'f' 'f' 'f' 'f' 'f' 'm' 'f' 'f' 'f' 'f' 'f' 'f'\n",
      " 'f' 'm' 'f' 'm' 'm' 'f' 'm' 'm' 'm' 'f' 'f' 'f' 'f' 'f' 'm' 'f' 'f' 'f'\n",
      " 'f' 'f' 'm' 'f' 'f' 'm' 'f' 'f' 'f' 'm' 'f' 'f' 'f' 'm' 'f' 'f' 'f' 'm'\n",
      " 'm' 'm' 'm' 'm' 'f' 'f' 'f' 'f' 'f' 'f' 'f' 'f' 'm' 'f' 'f' 'f' 'f' 'f'\n",
      " 'f' 'f' 'm' 'f' 'f' 'f' 'f' 'f' 'm' 'f' 'f' 'f' 'f' 'm' 'f' 'f' 'm' 'm'\n",
      " 'f' 'f' 'f' 'm' 'm' 'f' 'm' 'm' 'm' 'f' 'm' 'm' 'f' 'm' 'f' 'f' 'm' 'm'\n",
      " 'f' 'f' 'm' 'f' 'f' 'f' 'f' 'm' 'f' 'f' 'f' 'f' 'f' 'm' 'f' 'f' 'f' 'f'\n",
      " 'm' 'f' 'f' 'm' 'm' 'f' 'f' 'f' 'm' 'f' 'm' 'm' 'f' 'f' 'f' 'm' 'f' 'f'\n",
      " 'f' 'f' 'f' 'f' 'm' 'm' 'f' 'f' 'm' 'f' 'f' 'm' 'f' 'f' 'f' 'f' 'f' 'f'\n",
      " 'f' 'f' 'm' 'm' 'f' 'f' 'f' 'm' 'f' 'f' 'f' 'm' 'f' 'f' 'f' 'm' 'm' 'f'\n",
      " 'f' 'f' 'f' 'm' 'f' 'f' 'f' 'f' 'f' 'f' 'f' 'f' 'f' 'f' 'f' 'f' 'f' 'm'\n",
      " 'm' 'm' 'f' 'm' 'f' 'm' 'f' 'm' 'm' 'm' 'm' 'm' 'm' 'm' 'f' 'f' 'm' 'f'\n",
      " 'm' 'm' 'f' 'f' 'f' 'f' 'f' 'm' 'f' 'm' 'f' 'm' 'm' 'm' 'f' 'f' 'm' 'f'\n",
      " 'f' 'f' 'm' 'm' 'f' 'm' 'm' 'm' 'f' 'f' 'm' 'f' 'f' 'm' 'f' 'm' 'm' 'f'\n",
      " 'm' 'm' 'f' 'f' 'f' 'f' 'f' 'f' 'f' 'f' 'm' 'm' 'f' 'm' 'm' 'f' 'm' 'm'\n",
      " 'm' 'f' 'm' 'm' 'f' 'f' 'f' 'f' 'm' 'f' 'f' 'm' 'f' 'f' 'f' 'm' 'f' 'f'\n",
      " 'f' 'f' 'm' 'f' 'f' 'm' 'm' 'f' 'm' 'f' 'f' 'm' 'm' 'm' 'm' 'f' 'm' 'f'\n",
      " 'm' 'f' 'm' 'f' 'm' 'f' 'm' 'm' 'f' 'm' 'm' 'f' 'f' 'f' 'm' 'f' 'm' 'm'\n",
      " 'm' 'f' 'm' 'f' 'f' 'm' 'f' 'm' 'f' 'f' 'f' 'f' 'm' 'f' 'f' 'f' 'f' 'f'\n",
      " 'm' 'm' 'f' 'f' 'f' 'f' 'm' 'f' 'f' 'f' 'm' 'm' 'f' 'f' 'f' 'f' 'm' 'm'\n",
      " 'f' 'f' 'f' 'f' 'f' 'm' 'f' 'm' 'm' 'f' 'f' 'f' 'f' 'm' 'm' 'f' 'm' 'm'\n",
      " 'f' 'f' 'f' 'm' 'f' 'f' 'f' 'f' 'm' 'f' 'm' 'f' 'm' 'f' 'f' 'f' 'f' 'm'\n",
      " 'm' 'f' 'f' 'm' 'f' 'f' 'f' 'f' 'm' 'm' 'f' 'f' 'f' 'f' 'f' 'f' 'm' 'm'\n",
      " 'm' 'f' 'f' 'f' 'm' 'f' 'm' 'f' 'f' 'f' 'f' 'f' 'm' 'f' 'f' 'f' 'm' 'f'\n",
      " 'f' 'f' 'f' 'f' 'm' 'f' 'f' 'f' 'f' 'f' 'f' 'f' 'f' 'f' 'm' 'm' 'f' 'f'\n",
      " 'f' 'f' 'f' 'f' 'f' 'f' 'f' 'f' 'f' 'f' 'f' 'm' 'f' 'm' 'm' 'f' 'f' 'f'\n",
      " 'f' 'f' 'm' 'm' 'm' 'f']\n"
     ]
    }
   ],
   "source": [
    "Xtrain,Xtest,ytrain,ytest = train_test_split(X,y,test_size=0.25,random_state=1)\n",
    "model = make_pipeline(TfidfVectorizer(), ComplementNB())\n",
    "model.fit(Xtrain, ytrain)\n",
    "ypred = model.predict(Xtest)\n",
    "\n",
    "acc = 100*accuracy_score(ytest,ypred)\n",
    "\n",
    "print('Accuracy %0.2f %%'%acc)\n",
    "print(\"\")\n",
    "print(Xtest.shape)\n",
    "print(Xtrain.shape)\n",
    "print(\"\")\n",
    "print(ypred)"
   ]
  },
  {
   "cell_type": "markdown",
   "metadata": {},
   "source": [
    "# In this function error = number of incorrect classifications"
   ]
  },
  {
   "cell_type": "code",
   "execution_count": 5,
   "metadata": {},
   "outputs": [
    {
     "name": "stdout",
     "output_type": "stream",
     "text": [
      "Mean Absolute Error: 0.21951219512195122\n",
      "Mean Squared Error: 0.21951219512195122\n",
      "Root Mean Squared Error: 0.4685212856658182\n"
     ]
    }
   ],
   "source": [
    "labelencoder_Y = LabelEncoder()\n",
    "y = labelencoder_Y.fit_transform(y)\n",
    "Xtrain,Xtest,ytrain,ytest = train_test_split(X,y,test_size=0.25,random_state=1)\n",
    "\n",
    "model = make_pipeline(TfidfVectorizer(), MultinomialNB())\n",
    "model.fit(Xtrain, ytrain)\n",
    "ypred = model.predict(Xtest)\n",
    "\n",
    "maemultinom = metrics.mean_absolute_error(ytest, ypred)\n",
    "msemultinom = metrics.mean_squared_error(ytest, ypred)\n",
    "rmsemultinom = np.sqrt(metrics.mean_squared_error(ytest, ypred))\n",
    "print('Mean Absolute Error:', maemultinom)  \n",
    "print('Mean Squared Error:', msemultinom)  \n",
    "print('Root Mean Squared Error:', rmsemultinom)"
   ]
  },
  {
   "cell_type": "code",
   "execution_count": 6,
   "metadata": {},
   "outputs": [
    {
     "name": "stdout",
     "output_type": "stream",
     "text": [
      "Mean Absolute Error: 0.22154471544715448\n",
      "Mean Squared Error: 0.22154471544715448\n",
      "Root Mean Squared Error: 0.4706853677852696\n"
     ]
    }
   ],
   "source": [
    "model = make_pipeline(TfidfVectorizer(), BernoulliNB())\n",
    "model.fit(Xtrain, ytrain)\n",
    "ypred = model.predict(Xtest)\n",
    "\n",
    "maebernoulli = metrics.mean_absolute_error(ytest, ypred)\n",
    "msebernoulli = metrics.mean_squared_error(ytest, ypred)\n",
    "rmsebernoulli = np.sqrt(metrics.mean_squared_error(ytest, ypred))\n",
    "print('Mean Absolute Error:', maebernoulli)  \n",
    "print('Mean Squared Error:', msebernoulli)  \n",
    "print('Root Mean Squared Error:',rmsebernoulli)"
   ]
  },
  {
   "cell_type": "code",
   "execution_count": 7,
   "metadata": {},
   "outputs": [
    {
     "name": "stdout",
     "output_type": "stream",
     "text": [
      "Mean Absolute Error: 0.22764227642276422\n",
      "Mean Squared Error: 0.22764227642276422\n",
      "Root Mean Squared Error: 0.4771187236136979\n"
     ]
    }
   ],
   "source": [
    "model = make_pipeline(TfidfVectorizer(), ComplementNB())\n",
    "model.fit(Xtrain, ytrain)\n",
    "ypred = model.predict(Xtest)\n",
    "\n",
    "print('Mean Absolute Error:', metrics.mean_absolute_error(ytest, ypred))  \n",
    "print('Mean Squared Error:', metrics.mean_squared_error(ytest, ypred))  \n",
    "print('Root Mean Squared Error:',np.sqrt(metrics.mean_squared_error(ytest, ypred)))"
   ]
  },
  {
   "cell_type": "code",
   "execution_count": 12,
   "metadata": {},
   "outputs": [
    {
     "data": {
      "image/png": "[encoded data removed]",
      "text/plain": [
       "<Figure size 1152x360 with 1 Axes>"
      ]
     },
     "metadata": {},
     "output_type": "display_data"
    }
   ],
   "source": [
    "import seaborn as sns\n",
    "methods = [\"MAE Multinom\", \"MAE Bernoulli\", \"MSE Multinom\", \"MSE Bernoulli\", \"RMSE Multinom\", \"RMSE Bernoulli\"]\n",
    "accmeth = [maemultinom, maebernoulli, msemultinom, msebernoulli, rmsemultinom, rmsebernoulli]\n",
    "colors = [\"orange\",\"red\",\"purple\", \"magenta\", \"green\",\"blue\"]\n",
    "sns.set_style(\"whitegrid\")\n",
    "plt.figure(figsize=(16,5))\n",
    "plt.yticks(np.arange(0,100,10))\n",
    "plt.ylim((0,0.50))\n",
    "plt.ylabel(\"Loss Error\")\n",
    "plt.xlabel(\"Algorithms\")\n",
    "sns.barplot(x=methods, y=accmeth, palette=colors)\n",
    "# plt.grid(b=None)\n",
    "plt.show()"
   ]
  },
  {
   "cell_type": "markdown",
   "metadata": {},
   "source": [
    "we use Multionmial Naive Bayes with the highest Accuracy"
   ]
  },
  {
   "cell_type": "code",
   "execution_count": 21,
   "metadata": {},
   "outputs": [],
   "source": [
    "def prediksi_nama(nama, model):\n",
    "    prediksi = model.predict([nama])\n",
    "    return prediksi"
   ]
  },
  {
   "cell_type": "code",
   "execution_count": 6,
   "metadata": {},
   "outputs": [
    {
     "name": "stdout",
     "output_type": "stream",
     "text": [
      "['f']\n"
     ]
    }
   ],
   "source": [
    "contoh_judul_1 = \"putri rahayu\"\n",
    "print(prediksi_nama(contoh_judul_1, model))"
   ]
  },
  {
   "cell_type": "markdown",
   "metadata": {},
   "source": [
    "GUI "
   ]
  },
  {
   "cell_type": "code",
   "execution_count": 23,
   "metadata": {},
   "outputs": [
    {
     "name": "stdout",
     "output_type": "stream",
     "text": [
      "** Warning - Cyan Theme is not a valid theme. Change your theme call. **\n",
      "valid values are ['Black', 'BlueMono', 'BluePurple', 'BrightColors', 'BrownBlue', 'Dark', 'Dark2', 'DarkAmber', 'DarkBlack', 'DarkBlack1', 'DarkBlue', 'DarkBlue1', 'DarkBlue10', 'DarkBlue11', 'DarkBlue12', 'DarkBlue13', 'DarkBlue14', 'DarkBlue15', 'DarkBlue16', 'DarkBlue17', 'DarkBlue2', 'DarkBlue3', 'DarkBlue4', 'DarkBlue5', 'DarkBlue6', 'DarkBlue7', 'DarkBlue8', 'DarkBlue9', 'DarkBrown', 'DarkBrown1', 'DarkBrown2', 'DarkBrown3', 'DarkBrown4', 'DarkBrown5', 'DarkBrown6', 'DarkBrown7', 'DarkGreen', 'DarkGreen1', 'DarkGreen2', 'DarkGreen3', 'DarkGreen4', 'DarkGreen5', 'DarkGreen6', 'DarkGreen7', 'DarkGrey', 'DarkGrey1', 'DarkGrey10', 'DarkGrey11', 'DarkGrey12', 'DarkGrey13', 'DarkGrey14', 'DarkGrey2', 'DarkGrey3', 'DarkGrey4', 'DarkGrey5', 'DarkGrey6', 'DarkGrey7', 'DarkGrey8', 'DarkGrey9', 'DarkPurple', 'DarkPurple1', 'DarkPurple2', 'DarkPurple3', 'DarkPurple4', 'DarkPurple5', 'DarkPurple6', 'DarkPurple7', 'DarkRed', 'DarkRed1', 'DarkRed2', 'DarkTanBlue', 'DarkTeal', 'DarkTeal1', 'DarkTeal10', 'DarkTeal11', 'DarkTeal12', 'DarkTeal2', 'DarkTeal3', 'DarkTeal4', 'DarkTeal5', 'DarkTeal6', 'DarkTeal7', 'DarkTeal8', 'DarkTeal9', 'Default', 'Default1', 'DefaultNoMoreNagging', 'GrayGrayGray', 'Green', 'GreenMono', 'GreenTan', 'HotDogStand', 'Kayak', 'LightBlue', 'LightBlue1', 'LightBlue2', 'LightBlue3', 'LightBlue4', 'LightBlue5', 'LightBlue6', 'LightBlue7', 'LightBrown', 'LightBrown1', 'LightBrown10', 'LightBrown11', 'LightBrown12', 'LightBrown13', 'LightBrown2', 'LightBrown3', 'LightBrown4', 'LightBrown5', 'LightBrown6', 'LightBrown7', 'LightBrown8', 'LightBrown9', 'LightGray1', 'LightGreen', 'LightGreen1', 'LightGreen10', 'LightGreen2', 'LightGreen3', 'LightGreen4', 'LightGreen5', 'LightGreen6', 'LightGreen7', 'LightGreen8', 'LightGreen9', 'LightGrey', 'LightGrey1', 'LightGrey2', 'LightGrey3', 'LightGrey4', 'LightGrey5', 'LightGrey6', 'LightPurple', 'LightTeal', 'LightYellow', 'Material1', 'Material2', 'NeutralBlue', 'Purple', 'Python', 'Reddit', 'Reds', 'SandyBeach', 'SystemDefault', 'SystemDefault1', 'SystemDefaultForReal', 'Tan', 'TanBlue', 'TealMono', 'Topanga']\n",
      "Instead, please enjoy a random Theme named DarkBlue6\n",
      "Tampilkan Hasil {'-IN-': 'putri rahayu'}\n",
      "['f']\n",
      "Exit {'-IN-': 'putri rahayu'}\n",
      "['f']\n"
     ]
    }
   ],
   "source": [
    "sg.theme('Cyan')\n",
    "   \n",
    "layout = [[sg.Text('Tuliskan Nama Gender:'),\n",
    "           sg.Text(size=(15,1), key='-OUTPUT-')],\n",
    "          [sg.Input(key='-IN-')],\n",
    "          [sg.Button('Tampilkan Hasil'), sg.Button('Exit')]]\n",
    "  \n",
    "window = sg.Window('Prediksi Nama Gender', layout)\n",
    "  \n",
    "while True:\n",
    "    event, values = window.read()\n",
    "    print(event, values)\n",
    "    print(prediksi_nama(values['-IN-'], model))\n",
    "    \n",
    "    if event in  (None, 'Exit'):\n",
    "        break\n",
    "      \n",
    "    if event == 'Tampilkan Hasil':\n",
    "        # Update the \"output\" text element\n",
    "        # to be the value of \"input\" element\n",
    "        window['-OUTPUT-'].update(prediksi_nama(values['-IN-'], model))\n",
    "  \n",
    "window.close()"
   ]
  },
  {
   "cell_type": "code",
   "execution_count": null,
   "metadata": {},
   "outputs": [],
   "source": []
  }
 ],
 "metadata": {
  "colab": {
   "authorship_tag": "ABX9TyPT3XPKL4QvLU49vTg1Wrk5",
   "name": "Untitled0.ipynb",
   "provenance": []
  },
  "kernelspec": {
   "display_name": "Python 3",
   "language": "python",
   "name": "python3"
  },
  "language_info": {
   "codemirror_mode": {
    "name": "ipython",
    "version": 3
   },
   "file_extension": ".py",
   "mimetype": "text/x-python",
   "name": "python",
   "nbconvert_exporter": "python",
   "pygments_lexer": "ipython3",
   "version": "3.7.7"
  }
 },
 "nbformat": 4,
 "nbformat_minor": 1
}
